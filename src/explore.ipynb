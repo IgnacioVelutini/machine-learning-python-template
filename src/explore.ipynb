{
    "cells": [
        {
            "cell_type": "markdown",
            "metadata": {},
            "source": [
                "# Explore here"
            ]
        },
        {
            "cell_type": "code",
            "execution_count": 5,
            "metadata": {},
            "outputs": [
                {
                    "name": "stdout",
                    "output_type": "stream",
                    "text": [
                        "Dataset downloaded and saved to ../data/raw/AB_NYC_2019.csv\n"
                    ]
                }
            ],
            "source": [
                "# Your code here\n",
                "\n",
                "import os\n",
                "import requests\n",
                "\n",
                "# Define paths for raw and processed folders\n",
                "raw_data_path = '../data/raw/AB_NYC_2019.csv'\n",
                "\n",
                "# URL of the dataset\n",
                "url = 'https://raw.githubusercontent.com/4GeeksAcademy/data-preprocessing-project-tutorial/main/AB_NYC_2019.csv'\n",
                "\n",
                "# Download the data if it's not already in the raw folder\n",
                "if not os.path.exists(raw_data_path):\n",
                "    response = requests.get(url)\n",
                "    with open(raw_data_path, 'wb') as file:\n",
                "        file.write(response.content)\n",
                "    print(f\"Dataset downloaded and saved to {raw_data_path}\")\n",
                "else:\n",
                "    print(f\"Dataset already exists at {raw_data_path}\")\n",
                "\n"
            ]
        },
        {
            "cell_type": "code",
            "execution_count": 7,
            "metadata": {},
            "outputs": [
                {
                    "data": {
                        "text/html": [
                            "<div>\n",
                            "<style scoped>\n",
                            "    .dataframe tbody tr th:only-of-type {\n",
                            "        vertical-align: middle;\n",
                            "    }\n",
                            "\n",
                            "    .dataframe tbody tr th {\n",
                            "        vertical-align: top;\n",
                            "    }\n",
                            "\n",
                            "    .dataframe thead th {\n",
                            "        text-align: right;\n",
                            "    }\n",
                            "</style>\n",
                            "<table border=\"1\" class=\"dataframe\">\n",
                            "  <thead>\n",
                            "    <tr style=\"text-align: right;\">\n",
                            "      <th></th>\n",
                            "      <th>id</th>\n",
                            "      <th>name</th>\n",
                            "      <th>host_id</th>\n",
                            "      <th>host_name</th>\n",
                            "      <th>neighbourhood_group</th>\n",
                            "      <th>neighbourhood</th>\n",
                            "      <th>latitude</th>\n",
                            "      <th>longitude</th>\n",
                            "      <th>room_type</th>\n",
                            "      <th>price</th>\n",
                            "      <th>minimum_nights</th>\n",
                            "      <th>number_of_reviews</th>\n",
                            "      <th>last_review</th>\n",
                            "      <th>reviews_per_month</th>\n",
                            "      <th>calculated_host_listings_count</th>\n",
                            "      <th>availability_365</th>\n",
                            "    </tr>\n",
                            "  </thead>\n",
                            "  <tbody>\n",
                            "    <tr>\n",
                            "      <th>0</th>\n",
                            "      <td>2539</td>\n",
                            "      <td>Clean &amp; quiet apt home by the park</td>\n",
                            "      <td>2787</td>\n",
                            "      <td>John</td>\n",
                            "      <td>Brooklyn</td>\n",
                            "      <td>Kensington</td>\n",
                            "      <td>40.64749</td>\n",
                            "      <td>-73.97237</td>\n",
                            "      <td>Private room</td>\n",
                            "      <td>149</td>\n",
                            "      <td>1</td>\n",
                            "      <td>9</td>\n",
                            "      <td>2018-10-19</td>\n",
                            "      <td>0.21</td>\n",
                            "      <td>6</td>\n",
                            "      <td>365</td>\n",
                            "    </tr>\n",
                            "    <tr>\n",
                            "      <th>1</th>\n",
                            "      <td>2595</td>\n",
                            "      <td>Skylit Midtown Castle</td>\n",
                            "      <td>2845</td>\n",
                            "      <td>Jennifer</td>\n",
                            "      <td>Manhattan</td>\n",
                            "      <td>Midtown</td>\n",
                            "      <td>40.75362</td>\n",
                            "      <td>-73.98377</td>\n",
                            "      <td>Entire home/apt</td>\n",
                            "      <td>225</td>\n",
                            "      <td>1</td>\n",
                            "      <td>45</td>\n",
                            "      <td>2019-05-21</td>\n",
                            "      <td>0.38</td>\n",
                            "      <td>2</td>\n",
                            "      <td>355</td>\n",
                            "    </tr>\n",
                            "    <tr>\n",
                            "      <th>2</th>\n",
                            "      <td>3647</td>\n",
                            "      <td>THE VILLAGE OF HARLEM....NEW YORK !</td>\n",
                            "      <td>4632</td>\n",
                            "      <td>Elisabeth</td>\n",
                            "      <td>Manhattan</td>\n",
                            "      <td>Harlem</td>\n",
                            "      <td>40.80902</td>\n",
                            "      <td>-73.94190</td>\n",
                            "      <td>Private room</td>\n",
                            "      <td>150</td>\n",
                            "      <td>3</td>\n",
                            "      <td>0</td>\n",
                            "      <td>NaN</td>\n",
                            "      <td>NaN</td>\n",
                            "      <td>1</td>\n",
                            "      <td>365</td>\n",
                            "    </tr>\n",
                            "    <tr>\n",
                            "      <th>3</th>\n",
                            "      <td>3831</td>\n",
                            "      <td>Cozy Entire Floor of Brownstone</td>\n",
                            "      <td>4869</td>\n",
                            "      <td>LisaRoxanne</td>\n",
                            "      <td>Brooklyn</td>\n",
                            "      <td>Clinton Hill</td>\n",
                            "      <td>40.68514</td>\n",
                            "      <td>-73.95976</td>\n",
                            "      <td>Entire home/apt</td>\n",
                            "      <td>89</td>\n",
                            "      <td>1</td>\n",
                            "      <td>270</td>\n",
                            "      <td>2019-07-05</td>\n",
                            "      <td>4.64</td>\n",
                            "      <td>1</td>\n",
                            "      <td>194</td>\n",
                            "    </tr>\n",
                            "    <tr>\n",
                            "      <th>4</th>\n",
                            "      <td>5022</td>\n",
                            "      <td>Entire Apt: Spacious Studio/Loft by central park</td>\n",
                            "      <td>7192</td>\n",
                            "      <td>Laura</td>\n",
                            "      <td>Manhattan</td>\n",
                            "      <td>East Harlem</td>\n",
                            "      <td>40.79851</td>\n",
                            "      <td>-73.94399</td>\n",
                            "      <td>Entire home/apt</td>\n",
                            "      <td>80</td>\n",
                            "      <td>10</td>\n",
                            "      <td>9</td>\n",
                            "      <td>2018-11-19</td>\n",
                            "      <td>0.10</td>\n",
                            "      <td>1</td>\n",
                            "      <td>0</td>\n",
                            "    </tr>\n",
                            "  </tbody>\n",
                            "</table>\n",
                            "</div>"
                        ],
                        "text/plain": [
                            "     id                                              name  host_id  \\\n",
                            "0  2539                Clean & quiet apt home by the park     2787   \n",
                            "1  2595                             Skylit Midtown Castle     2845   \n",
                            "2  3647               THE VILLAGE OF HARLEM....NEW YORK !     4632   \n",
                            "3  3831                   Cozy Entire Floor of Brownstone     4869   \n",
                            "4  5022  Entire Apt: Spacious Studio/Loft by central park     7192   \n",
                            "\n",
                            "     host_name neighbourhood_group neighbourhood  latitude  longitude  \\\n",
                            "0         John            Brooklyn    Kensington  40.64749  -73.97237   \n",
                            "1     Jennifer           Manhattan       Midtown  40.75362  -73.98377   \n",
                            "2    Elisabeth           Manhattan        Harlem  40.80902  -73.94190   \n",
                            "3  LisaRoxanne            Brooklyn  Clinton Hill  40.68514  -73.95976   \n",
                            "4        Laura           Manhattan   East Harlem  40.79851  -73.94399   \n",
                            "\n",
                            "         room_type  price  minimum_nights  number_of_reviews last_review  \\\n",
                            "0     Private room    149               1                  9  2018-10-19   \n",
                            "1  Entire home/apt    225               1                 45  2019-05-21   \n",
                            "2     Private room    150               3                  0         NaN   \n",
                            "3  Entire home/apt     89               1                270  2019-07-05   \n",
                            "4  Entire home/apt     80              10                  9  2018-11-19   \n",
                            "\n",
                            "   reviews_per_month  calculated_host_listings_count  availability_365  \n",
                            "0               0.21                               6               365  \n",
                            "1               0.38                               2               355  \n",
                            "2                NaN                               1               365  \n",
                            "3               4.64                               1               194  \n",
                            "4               0.10                               1                 0  "
                        ]
                    },
                    "execution_count": 7,
                    "metadata": {},
                    "output_type": "execute_result"
                }
            ],
            "source": [
                "import pandas as pd\n",
                "\n",
                "# Corrected file path\n",
                "data_path = '../data/raw/AB_NYC_2019.csv'\n",
                "\n",
                "# Load the dataset\n",
                "data = pd.read_csv(data_path)\n",
                "\n",
                "# Check the first few rows\n",
                "data.head()\n",
                "\n"
            ]
        },
        {
            "cell_type": "code",
            "execution_count": 8,
            "metadata": {},
            "outputs": [
                {
                    "name": "stdout",
                    "output_type": "stream",
                    "text": [
                        "<class 'pandas.core.frame.DataFrame'>\n",
                        "RangeIndex: 48895 entries, 0 to 48894\n",
                        "Data columns (total 16 columns):\n",
                        " #   Column                          Non-Null Count  Dtype  \n",
                        "---  ------                          --------------  -----  \n",
                        " 0   id                              48895 non-null  int64  \n",
                        " 1   name                            48879 non-null  object \n",
                        " 2   host_id                         48895 non-null  int64  \n",
                        " 3   host_name                       48874 non-null  object \n",
                        " 4   neighbourhood_group             48895 non-null  object \n",
                        " 5   neighbourhood                   48895 non-null  object \n",
                        " 6   latitude                        48895 non-null  float64\n",
                        " 7   longitude                       48895 non-null  float64\n",
                        " 8   room_type                       48895 non-null  object \n",
                        " 9   price                           48895 non-null  int64  \n",
                        " 10  minimum_nights                  48895 non-null  int64  \n",
                        " 11  number_of_reviews               48895 non-null  int64  \n",
                        " 12  last_review                     38843 non-null  object \n",
                        " 13  reviews_per_month               38843 non-null  float64\n",
                        " 14  calculated_host_listings_count  48895 non-null  int64  \n",
                        " 15  availability_365                48895 non-null  int64  \n",
                        "dtypes: float64(3), int64(7), object(6)\n",
                        "memory usage: 6.0+ MB\n",
                        "None\n",
                        "                 id       host_id      latitude     longitude         price  \\\n",
                        "count  4.889500e+04  4.889500e+04  48895.000000  48895.000000  48895.000000   \n",
                        "mean   1.901714e+07  6.762001e+07     40.728949    -73.952170    152.720687   \n",
                        "std    1.098311e+07  7.861097e+07      0.054530      0.046157    240.154170   \n",
                        "min    2.539000e+03  2.438000e+03     40.499790    -74.244420      0.000000   \n",
                        "25%    9.471945e+06  7.822033e+06     40.690100    -73.983070     69.000000   \n",
                        "50%    1.967728e+07  3.079382e+07     40.723070    -73.955680    106.000000   \n",
                        "75%    2.915218e+07  1.074344e+08     40.763115    -73.936275    175.000000   \n",
                        "max    3.648724e+07  2.743213e+08     40.913060    -73.712990  10000.000000   \n",
                        "\n",
                        "       minimum_nights  number_of_reviews  reviews_per_month  \\\n",
                        "count    48895.000000       48895.000000       38843.000000   \n",
                        "mean         7.029962          23.274466           1.373221   \n",
                        "std         20.510550          44.550582           1.680442   \n",
                        "min          1.000000           0.000000           0.010000   \n",
                        "25%          1.000000           1.000000           0.190000   \n",
                        "50%          3.000000           5.000000           0.720000   \n",
                        "75%          5.000000          24.000000           2.020000   \n",
                        "max       1250.000000         629.000000          58.500000   \n",
                        "\n",
                        "       calculated_host_listings_count  availability_365  \n",
                        "count                    48895.000000      48895.000000  \n",
                        "mean                         7.143982        112.781327  \n",
                        "std                         32.952519        131.622289  \n",
                        "min                          1.000000          0.000000  \n",
                        "25%                          1.000000          0.000000  \n",
                        "50%                          1.000000         45.000000  \n",
                        "75%                          2.000000        227.000000  \n",
                        "max                        327.000000        365.000000  \n",
                        "id                                    0\n",
                        "name                                 16\n",
                        "host_id                               0\n",
                        "host_name                            21\n",
                        "neighbourhood_group                   0\n",
                        "neighbourhood                         0\n",
                        "latitude                              0\n",
                        "longitude                             0\n",
                        "room_type                             0\n",
                        "price                                 0\n",
                        "minimum_nights                        0\n",
                        "number_of_reviews                     0\n",
                        "last_review                       10052\n",
                        "reviews_per_month                 10052\n",
                        "calculated_host_listings_count        0\n",
                        "availability_365                      0\n",
                        "dtype: int64\n"
                    ]
                }
            ],
            "source": [
                "# Get an overview of the dataset\n",
                "print(data.info())\n",
                "\n",
                "# Summary statistics for numerical columns\n",
                "print(data.describe())\n",
                "\n",
                "# Check for missing values\n",
                "print(data.isnull().sum())\n"
            ]
        },
        {
            "cell_type": "code",
            "execution_count": 9,
            "metadata": {},
            "outputs": [
                {
                    "data": {
                        "image/png": "[encoded data removed]",
                        "text/plain": [
                            "<Figure size 1000x600 with 1 Axes>"
                        ]
                    },
                    "metadata": {},
                    "output_type": "display_data"
                },
                {
                    "data": {
                        "image/png": "[encoded data removed]",
                        "text/plain": [
                            "<Figure size 1000x600 with 1 Axes>"
                        ]
                    },
                    "metadata": {},
                    "output_type": "display_data"
                },
                {
                    "data": {
                        "image/png": "[encoded data removed]",
                        "text/plain": [
                            "<Figure size 1000x600 with 1 Axes>"
                        ]
                    },
                    "metadata": {},
                    "output_type": "display_data"
                }
            ],
            "source": [
                "import seaborn as sns\n",
                "import matplotlib.pyplot as plt\n",
                "\n",
                "# Visualize the distribution of 'price'\n",
                "plt.figure(figsize=(10,6))\n",
                "sns.histplot(data['price'], bins=50)\n",
                "plt.title('Price Distribution')\n",
                "plt.show()\n",
                "\n",
                "# Visualize the distribution of 'room_type'\n",
                "plt.figure(figsize=(10,6))\n",
                "sns.countplot(y='room_type', data=data)\n",
                "plt.title('Room Type Distribution')\n",
                "plt.show()\n",
                "\n",
                "# Visualize the distribution of 'neighbourhood_group'\n",
                "plt.figure(figsize=(10,6))\n",
                "sns.countplot(y='neighbourhood_group', data=data)\n",
                "plt.title('Neighbourhood Group Distribution')\n",
                "plt.show()\n"
            ]
        },
        {
            "cell_type": "code",
            "execution_count": 10,
            "metadata": {},
            "outputs": [
                {
                    "name": "stdout",
                    "output_type": "stream",
                    "text": [
                        "Number of duplicate rows: 0\n"
                    ]
                },
                {
                    "name": "stderr",
                    "output_type": "stream",
                    "text": [
                        "/tmp/ipykernel_3274/387991160.py:13: FutureWarning: A value is trying to be set on a copy of a DataFrame or Series through chained assignment using an inplace method.\n",
                        "The behavior will change in pandas 3.0. This inplace method will never work because the intermediate object on which we are setting values always behaves as a copy.\n",
                        "\n",
                        "For example, when doing 'df[col].method(value, inplace=True)', try using 'df.method({col: value}, inplace=True)' or df[col] = df[col].method(value) instead, to perform the operation inplace on the original object.\n",
                        "\n",
                        "\n",
                        "  data_cleaned['price'].fillna(data['price'].mean(), inplace=True)\n",
                        "/tmp/ipykernel_3274/387991160.py:13: SettingWithCopyWarning: \n",
                        "A value is trying to be set on a copy of a slice from a DataFrame\n",
                        "\n",
                        "See the caveats in the documentation: https://pandas.pydata.org/pandas-docs/stable/user_guide/indexing.html#returning-a-view-versus-a-copy\n",
                        "  data_cleaned['price'].fillna(data['price'].mean(), inplace=True)\n"
                    ]
                }
            ],
            "source": [
                "# Check for duplicate rows\n",
                "duplicates = data.duplicated().sum()\n",
                "print(f\"Number of duplicate rows: {duplicates}\")\n",
                "\n",
                "# Drop duplicates if necessary\n",
                "data = data.drop_duplicates()\n",
                "\n",
                "# Handle missing values (you may need to drop or impute them based on the context)\n",
                "# For example, you can drop rows with missing values like this:\n",
                "data_cleaned = data.dropna()\n",
                "\n",
                "# Or impute missing values for specific columns\n",
                "data_cleaned['price'].fillna(data['price'].mean(), inplace=True)\n"
            ]
        },
        {
            "cell_type": "code",
            "execution_count": 11,
            "metadata": {},
            "outputs": [
                {
                    "name": "stdout",
                    "output_type": "stream",
                    "text": [
                        "Index(['host_id', 'neighbourhood_group', 'neighbourhood', 'latitude',\n",
                        "       'longitude', 'room_type', 'price', 'minimum_nights',\n",
                        "       'number_of_reviews', 'last_review', 'reviews_per_month',\n",
                        "       'calculated_host_listings_count', 'availability_365'],\n",
                        "      dtype='object')\n"
                    ]
                }
            ],
            "source": [
                "# Drop irrelevant columns\n",
                "data_cleaned = data_cleaned.drop(columns=['id', 'name', 'host_name'])\n",
                "\n",
                "# Check the remaining columns\n",
                "print(data_cleaned.columns)\n"
            ]
        },
        {
            "cell_type": "code",
            "execution_count": 12,
            "metadata": {},
            "outputs": [
                {
                    "name": "stdout",
                    "output_type": "stream",
                    "text": [
                        "Train set: (31056, 13), Test set: (7765, 13)\n"
                    ]
                }
            ],
            "source": [
                "from sklearn.model_selection import train_test_split\n",
                "\n",
                "# Split the dataset into training and test sets (80/20 split)\n",
                "train, test = train_test_split(data_cleaned, test_size=0.2, random_state=42)\n",
                "\n",
                "print(f\"Train set: {train.shape}, Test set: {test.shape}\")\n"
            ]
        },
        {
            "cell_type": "code",
            "execution_count": 13,
            "metadata": {},
            "outputs": [
                {
                    "name": "stdout",
                    "output_type": "stream",
                    "text": [
                        "Processed train dataset saved to ../data/processed/train.csv\n",
                        "Processed test dataset saved to ../data/processed/test.csv\n"
                    ]
                }
            ],
            "source": [
                "import os\n",
                "\n",
                "# Define the paths for saving the processed datasets\n",
                "processed_data_path_train = '../data/processed/train.csv'\n",
                "processed_data_path_test = '../data/processed/test.csv'\n",
                "\n",
                "# Create directories if they don't exist\n",
                "os.makedirs('../data/processed', exist_ok=True)\n",
                "\n",
                "# Save train and test datasets\n",
                "train.to_csv(processed_data_path_train, index=False)\n",
                "test.to_csv(processed_data_path_test, index=False)\n",
                "\n",
                "print(f\"Processed train dataset saved to {processed_data_path_train}\")\n",
                "print(f\"Processed test dataset saved to {processed_data_path_test}\")\n"
            ]
        },
        {
            "cell_type": "code",
            "execution_count": 14,
            "metadata": {},
            "outputs": [
                {
                    "ename": "SyntaxError",
                    "evalue": "invalid syntax (2056865110.py, line 2)",
                    "output_type": "error",
                    "traceback": [
                        "\u001b[0;36m  Cell \u001b[0;32mIn[14], line 2\u001b[0;36m\u001b[0m\n\u001b[0;31m    data/*\u001b[0m\n\u001b[0m         ^\u001b[0m\n\u001b[0;31mSyntaxError\u001b[0m\u001b[0;31m:\u001b[0m invalid syntax\n"
                    ]
                }
            ],
            "source": [
                "# In .gitignore, add:\n",
                "data/*\n"
            ]
        }
    ],
    "metadata": {
        "kernelspec": {
            "display_name": "Python 3.8.13 64-bit ('3.8.13')",
            "language": "python",
            "name": "python3"
        },
        "language_info": {
            "codemirror_mode": {
                "name": "ipython",
                "version": 3
            },
            "file_extension": ".py",
            "mimetype": "text/x-python",
            "name": "python",
            "nbconvert_exporter": "python",
            "pygments_lexer": "ipython3",
            "version": "3.10.12"
        },
        "orig_nbformat": 4,
        "vscode": {
            "interpreter": {
                "hash": "110cc1dee26208153f2972f08a2ad52b6a56238dc66d48e87fb757ef2996db56"
            }
        }
    },
    "nbformat": 4,
    "nbformat_minor": 2
}
